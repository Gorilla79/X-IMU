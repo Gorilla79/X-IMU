{
 "cells": [
  {
   "cell_type": "code",
   "execution_count": 14,
   "metadata": {},
   "outputs": [
    {
     "name": "stdout",
     "output_type": "stream",
     "text": [
      "Total left/right rotation distance (meters): -359.4772985472757\n",
      "Total forward/backward distance (meters): 4.536159711569905\n",
      "Total up/down distance (meters): 160.37466710748458\n"
     ]
    }
   ],
   "source": [
    "import pandas as pd\n",
    "import numpy as np\n",
    "\n",
    "# 데이터 불러오기\n",
    "file_path = r'D:\\20192230 이동섭\\IMU sensor\\Gait-Tracking-With-x-IMU-master\\Gait Tracking With x-IMU\\Datasets\\stairsAndCorridor_CalInertialAndMag.csv'  # 실제 데이터 경로로 변경하세요.\n",
    "data = pd.read_csv(file_path)\n",
    "\n",
    "# 가속도 데이터 선택\n",
    "acc_x = data['Accelerometer X (g)'].values  # NumPy 배열로 변환\n",
    "acc_y = data['Accelerometer Y (g)'].values\n",
    "acc_z = data['Accelerometer Z (g)'].values - 1\n",
    "\n",
    "# 시간 데이터 생성\n",
    "sample_period = 1/256  # 샘플 주기를 데이터에 맞게 조정하세요.\n",
    "time = np.linspace(0, len(acc_x) * sample_period, len(acc_x))\n",
    "\n",
    "# 적분 함수 정의\n",
    "def integrate(acceleration, time):\n",
    "    velocity = np.cumsum(acceleration) * np.mean(np.diff(time))  # 속도\n",
    "    distance = np.cumsum(velocity) * np.mean(np.diff(time))  # 거리\n",
    "    return distance\n",
    "\n",
    "# 거리 계산\n",
    "distance_x = integrate(acc_x, time)  # 회전 거리 계산 (좌/우)\n",
    "distance_y = integrate(acc_y, time)  # 직진 거리 계산 (전진/후진)\n",
    "distance_z = integrate(acc_z, time)  # 상승/하강 거리 계산\n",
    "\n",
    "print(\"Total left/right rotation distance (meters):\", distance_x[-1])\n",
    "print(\"Total forward/backward distance (meters):\", distance_y[-1])\n",
    "print(\"Total up/down distance (meters):\", distance_z[-1])"
   ]
  }
 ],
 "metadata": {
  "kernelspec": {
   "display_name": "base",
   "language": "python",
   "name": "python3"
  },
  "language_info": {
   "name": "python",
   "version": "3.8.12"
  }
 },
 "nbformat": 4,
 "nbformat_minor": 2
}
